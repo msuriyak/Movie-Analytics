{
 "cells": [
  {
   "cell_type": "code",
   "execution_count": 29,
   "metadata": {
    "collapsed": true
   },
   "outputs": [],
   "source": [
    "from __future__ import division\n",
    "import numpy as np\n",
    "import pandas as pd\n",
    "import urllib\n",
    "from bs4 import BeautifulSoup as bs\n",
    "import re\n",
    "import json\n",
    "import xml\n",
    "\n",
    "class IMDb(object):\n",
    "    def __init__(self, title='', year='', lang='English'):\n",
    "        self.title_query = title\n",
    "        self.year_query = year\n",
    "        self.language_query = lang\n",
    "\n",
    "    def search_title(self, title, year, lang='English'):\n",
    "        link = 'http://www.imdb.com/find?'\n",
    "        param = urllib.parse.urlencode({'q' : title, 'exact' : 'true', 's' : 'all'})\n",
    "        link = link + param\n",
    "        html = urllib.request.urlopen(link)\n",
    "        soup = bs(html, 'html.parser')\n",
    "        table = soup.find('table', { 'class' : 'findList' })  \n",
    "        for row in table.findAll('tr') :\n",
    "            name = row.find('td', {'class' : 'result_text' }).text\n",
    "            if repr(year) in name :\n",
    "                page_link = 'http://www.imdb.com' + row.find('a').get('href')\n",
    "                uid = page_link.split('/')[4]\n",
    "                return page_link, uid"
   ]
  },
  {
   "cell_type": "code",
   "execution_count": 49,
   "metadata": {
    "collapsed": false
   },
   "outputs": [
    {
     "data": {
      "text/plain": [
       "('http://www.imdb.com/title/tt0119978/?ref_=fn_al_tt_1', 'tt0119978')"
      ]
     },
     "execution_count": 49,
     "metadata": {},
     "output_type": "execute_result"
    }
   ],
   "source": [
    "temp = IMDb()\n",
    "temp.search_title('the rainmaker', 1997)    "
   ]
  },
  {
   "cell_type": "code",
   "execution_count": 47,
   "metadata": {
    "collapsed": false
   },
   "outputs": [
    {
     "name": "stdout",
     "output_type": "stream",
     "text": [
      "[]\n"
     ]
    }
   ],
   "source": [
    "url = 'http://www.imdb.com/search/title?sort=num_votes,desc&start=1&title_type=feature&year=1950,2012'\n",
    "r = urllib.request.urlopen(url) \n",
    "soup = bs(r, 'html.parser')\n",
    "print(soup.findAll('td','title'))\n",
    "for movie in soup.findAll('td','title'):\n",
    "    print(movie)\n",
    "    title = movie.find('a').contents[0]\n",
    "    genres = movie.find('span','genre').findAll('a')\n",
    "    genres = [g.contents[0] for g in genres]\n",
    "    runtime = movie.find('span','runtime').contents[0]\n",
    "    rating = movie.find('span','value').contents[0]\n",
    "    year = movie.find('span','year_type').contents[0]\n",
    "    imdbID = movie.find('span','rating-cancel').a['href'].split('/')[2]\n",
    "    print(title, genres, runtime, rating, year, imdvid)"
   ]
  },
  {
   "cell_type": "code",
   "execution_count": null,
   "metadata": {
    "collapsed": true
   },
   "outputs": [],
   "source": []
  }
 ],
 "metadata": {
  "kernelspec": {
   "display_name": "Python 3",
   "language": "python",
   "name": "python3"
  },
  "language_info": {
   "codemirror_mode": {
    "name": "ipython",
    "version": 3
   },
   "file_extension": ".py",
   "mimetype": "text/x-python",
   "name": "python",
   "nbconvert_exporter": "python",
   "pygments_lexer": "ipython3",
   "version": "3.5.2"
  }
 },
 "nbformat": 4,
 "nbformat_minor": 2
}
