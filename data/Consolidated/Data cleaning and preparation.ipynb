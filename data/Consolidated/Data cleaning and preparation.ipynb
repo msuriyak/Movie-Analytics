{
 "cells": [
  {
   "cell_type": "code",
   "execution_count": 1,
   "metadata": {
    "collapsed": true
   },
   "outputs": [],
   "source": [
    "import pandas as pd\n",
    "import numpy as np\n",
    "import sklearn\n",
    "import matplotlib.pyplot as plt"
   ]
  },
  {
   "cell_type": "markdown",
   "metadata": {},
   "source": [
    "Best Film\n",
    "====="
   ]
  },
  {
   "cell_type": "code",
   "execution_count": 2,
   "metadata": {
    "collapsed": false
   },
   "outputs": [],
   "source": [
    "gg = pd.read_csv('films_globe.csv', index_col=0)\n",
    "res = []\n",
    "for year in gg.index.unique():\n",
    "    temp = gg.loc[year]\n",
    "    if type(temp) == pd.core.series.Series:\n",
    "        res += [1]\n",
    "    else: \n",
    "        res += [1] + [0 for i in range(len(temp) -1 )]\n",
    "res = np.array(res)\n",
    "gg['Globe best film winner'] = res\n",
    "gg['Globe best film nominee'] = 1\n",
    "gg = gg.reset_index()[['Name', 'Year', 'Globe best film winner', 'Globe best film nominee']]"
   ]
  },
  {
   "cell_type": "code",
   "execution_count": 3,
   "metadata": {
    "collapsed": false
   },
   "outputs": [],
   "source": [
    "bf = pd.read_csv(\"films_bafta.csv\", index_col=0)\n",
    "res = []\n",
    "for year in bf.index.unique():\n",
    "    temp = bf.loc[year]\n",
    "    if type(temp) == pd.core.series.Series:\n",
    "        res += [1]\n",
    "    else: \n",
    "        res += [1] + [0 for i in range(len(temp) -1 )]\n",
    "res = np.array(res)\n",
    "bf['BAFTA best film winner'] = res\n",
    "bf['BAFTA best film nominee'] = 1\n",
    "bf = bf.reset_index()\n",
    "bf.columns = ['Year', 'Name'] + bf.columns[2:].tolist()"
   ]
  },
  {
   "cell_type": "code",
   "execution_count": 4,
   "metadata": {
    "collapsed": true
   },
   "outputs": [],
   "source": [
    "oscars = pd.read_csv('films_oscars.csv')"
   ]
  },
  {
   "cell_type": "code",
   "execution_count": 5,
   "metadata": {
    "collapsed": true
   },
   "outputs": [],
   "source": [
    "spirit = pd.read_csv('films_spirit.csv')"
   ]
  },
  {
   "cell_type": "code",
   "execution_count": 6,
   "metadata": {
    "collapsed": false
   },
   "outputs": [],
   "source": [
    "critic = pd.read_csv('films_critic.csv')\n",
    "res = []\n",
    "for year in critic['Year'].unique():\n",
    "    temp = critic[critic['Year' ] == year]\n",
    "    if type(temp) == pd.core.series.Series:\n",
    "        res += [1]\n",
    "    else: \n",
    "        res += [1] + [0 for i in range(len(temp) -1 )]\n",
    "critic['Critic best film winner'] = res\n",
    "critic['Critic best film nominee'] = 1"
   ]
  },
  {
   "cell_type": "code",
   "execution_count": null,
   "metadata": {
    "collapsed": true
   },
   "outputs": [],
   "source": []
  },
  {
   "cell_type": "code",
   "execution_count": 7,
   "metadata": {
    "collapsed": true
   },
   "outputs": [],
   "source": [
    "df = [gg, bf, spirit, critic, oscars]"
   ]
  },
  {
   "cell_type": "code",
   "execution_count": 8,
   "metadata": {
    "collapsed": true
   },
   "outputs": [],
   "source": [
    "condition = ['Name', 'Year']\n",
    "best_film = gg.merge(bf, how='outer', right_on=condition, left_on=condition)\n",
    "for frame in df[2:]:\n",
    "    best_film = best_film.merge(frame, how='outer', right_on=condition, left_on=condition)\n",
    "best_film = best_film.fillna(0)\n",
    "best_film.to_csv('best_film_consolidated.csv', index=False)"
   ]
  },
  {
   "cell_type": "code",
   "execution_count": null,
   "metadata": {
    "collapsed": true
   },
   "outputs": [],
   "source": []
  },
  {
   "cell_type": "markdown",
   "metadata": {
    "collapsed": true
   },
   "source": [
    "Best Actor\n",
    "======"
   ]
  },
  {
   "cell_type": "code",
   "execution_count": 9,
   "metadata": {
    "collapsed": false
   },
   "outputs": [],
   "source": [
    "gg = pd.read_csv('best_actor_globe.csv')\n",
    "res = []\n",
    "for year in gg['Year'].unique():\n",
    "    temp = gg[gg['Year'] == year]\n",
    "    if type(temp) == pd.core.series.Series:\n",
    "        res += [1]\n",
    "    else: \n",
    "        res += [1] + [0 for i in range(len(temp) -1 )]\n",
    "res = np.array(res)\n",
    "gg['Globe best actor winner'] = res\n",
    "gg['Globe best actor nominee'] = 1\n",
    "gg = gg[gg.columns[:2].tolist() + gg.columns[3:].tolist()]"
   ]
  },
  {
   "cell_type": "code",
   "execution_count": 10,
   "metadata": {
    "collapsed": false
   },
   "outputs": [],
   "source": [
    "bf = pd.read_csv('best_actor_bafta.csv')\n",
    "res = []\n",
    "for year in bf['Year'].unique():\n",
    "    temp = bf[bf['Year'] == year]\n",
    "    if type(temp) == pd.core.series.Series:\n",
    "        res += [1]\n",
    "    else: \n",
    "        res += [1] + [0 for i in range(len(temp) -1 )]\n",
    "res = np.array(res)\n",
    "bf['BAFTA best actor winner'] = res\n",
    "bf['BAFTA best actor nominee'] = 1"
   ]
  },
  {
   "cell_type": "code",
   "execution_count": 11,
   "metadata": {
    "collapsed": false
   },
   "outputs": [],
   "source": [
    "spirit = pd.read_csv('best_actor_spirit.csv')\n",
    "spirit = spirit[spirit.columns.tolist()[:-1]]\n",
    "res = []\n",
    "for year in spirit['Year'].unique():\n",
    "    temp = spirit[spirit['Year'] == year]\n",
    "    if type(temp) == pd.core.series.Series:\n",
    "        res += [1]\n",
    "    else: \n",
    "        res += [1] + [0 for i in range(len(temp) -1 )]\n",
    "res = np.array(res)\n",
    "spirit['Spirit best actor winner'] = res\n",
    "spirit['Spirit best actor nominee'] = 1"
   ]
  },
  {
   "cell_type": "code",
   "execution_count": 12,
   "metadata": {
    "collapsed": true
   },
   "outputs": [],
   "source": [
    "guild = pd.read_csv('best_actor_guild.csv')\n",
    "guild = guild[guild.columns.tolist()[:-1]]\n",
    "res = []\n",
    "for year in guild['Year'].unique():\n",
    "    temp = guild[guild['Year'] == year]\n",
    "    if type(temp) == pd.core.series.Series:\n",
    "        res += [1]\n",
    "    else: \n",
    "        res += [1] + [0 for i in range(len(temp) -1 )]\n",
    "res = np.array(res)\n",
    "guild['Guild best actor winner'] = res\n",
    "guild['Guild best actor nominee'] = 1"
   ]
  },
  {
   "cell_type": "code",
   "execution_count": null,
   "metadata": {
    "collapsed": false
   },
   "outputs": [],
   "source": []
  },
  {
   "cell_type": "code",
   "execution_count": 13,
   "metadata": {
    "collapsed": true
   },
   "outputs": [],
   "source": [
    "df = [gg, bf, spirit, guild]"
   ]
  },
  {
   "cell_type": "code",
   "execution_count": 14,
   "metadata": {
    "collapsed": false
   },
   "outputs": [],
   "source": [
    "condition = ['Name', 'Year', 'Actor']\n",
    "best_actor = gg.merge(bf, how='outer', right_on=condition, left_on=condition)\n",
    "for frame in df[2:]:\n",
    "    best_actor = best_actor.merge(frame, how='outer', right_on=condition, left_on=condition)\n",
    "best_actor = best_actor.fillna(0)\n",
    "best_actor.to_csv('best_actor_consolidated.csv', index=False)"
   ]
  },
  {
   "cell_type": "code",
   "execution_count": null,
   "metadata": {
    "collapsed": true
   },
   "outputs": [],
   "source": []
  },
  {
   "cell_type": "markdown",
   "metadata": {},
   "source": [
    "Best Actress\n",
    "======="
   ]
  },
  {
   "cell_type": "code",
   "execution_count": 15,
   "metadata": {
    "collapsed": true
   },
   "outputs": [],
   "source": [
    "gg = pd.read_csv('best_actress_globe.csv')\n",
    "res = []\n",
    "for year in gg['Year'].unique():\n",
    "    temp = gg[gg['Year'] == year]\n",
    "    if type(temp) == pd.core.series.Series:\n",
    "        res += [1]\n",
    "    else: \n",
    "        res += [1] + [0 for i in range(len(temp) -1 )]\n",
    "res = np.array(res)\n",
    "gg['Globe best actress winner'] = res\n",
    "gg['Globe best actress nominee'] = 1\n",
    "gg = gg[gg.columns[:2].tolist() + gg.columns[3:].tolist()]"
   ]
  },
  {
   "cell_type": "code",
   "execution_count": 16,
   "metadata": {
    "collapsed": false
   },
   "outputs": [],
   "source": [
    "bf = pd.read_csv('best_actress_bafta.csv')\n",
    "res = []\n",
    "for year in bf['Year'].unique():\n",
    "    temp = bf[bf['Year'] == year]\n",
    "    if type(temp) == pd.core.series.Series:\n",
    "        res += [1]\n",
    "    else: \n",
    "        res += [1] + [0 for i in range(len(temp) -1 )]\n",
    "res = np.array(res)\n",
    "bf['BAFTA best actress winner'] = res\n",
    "bf['BAFTA best actress nominee'] = 1"
   ]
  },
  {
   "cell_type": "code",
   "execution_count": 17,
   "metadata": {
    "collapsed": true
   },
   "outputs": [],
   "source": [
    "spirit = pd.read_csv('best_actress_spirit.csv')\n",
    "spirit = spirit[spirit.columns.tolist()[:-1]]\n",
    "res = []\n",
    "for year in spirit['Year'].unique():\n",
    "    temp = spirit[spirit['Year'] == year]\n",
    "    if type(temp) == pd.core.series.Series:\n",
    "        res += [1]\n",
    "    else: \n",
    "        res += [1] + [0 for i in range(len(temp) -1 )]\n",
    "res = np.array(res)\n",
    "spirit['Spirit best actress winner'] = res\n",
    "spirit['Spirit best actress nominee'] = 1"
   ]
  },
  {
   "cell_type": "code",
   "execution_count": 18,
   "metadata": {
    "collapsed": true
   },
   "outputs": [],
   "source": [
    "guild = pd.read_csv('best_actress_guild.csv')\n",
    "guild = guild[guild.columns.tolist()[:-1]]\n",
    "res = []\n",
    "for year in guild['Year'].unique():\n",
    "    temp = guild[guild['Year'] == year]\n",
    "    if type(temp) == pd.core.series.Series:\n",
    "        res += [1]\n",
    "    else: \n",
    "        res += [1] + [0 for i in range(len(temp) -1 )]\n",
    "res = np.array(res)\n",
    "guild['Guild best actress winner'] = res\n",
    "guild['Guild best actress nominee'] = 1"
   ]
  },
  {
   "cell_type": "code",
   "execution_count": null,
   "metadata": {
    "collapsed": false
   },
   "outputs": [],
   "source": []
  },
  {
   "cell_type": "code",
   "execution_count": 19,
   "metadata": {
    "collapsed": true
   },
   "outputs": [],
   "source": [
    "df = [gg, bf, spirit, guild]"
   ]
  },
  {
   "cell_type": "code",
   "execution_count": 20,
   "metadata": {
    "collapsed": false
   },
   "outputs": [],
   "source": [
    "condition = ['Name', 'Year', 'Actress']\n",
    "best_actress = gg.merge(bf, how='outer', right_on=condition, left_on=condition)\n",
    "for frame in df[2:]:\n",
    "    best_actress = best_actress.merge(frame, how='outer', right_on=condition, left_on=condition)\n",
    "best_actress = best_actress.fillna(0)\n",
    "best_actress.to_csv('best_actress_consolidated.csv', index=False)"
   ]
  },
  {
   "cell_type": "code",
   "execution_count": null,
   "metadata": {
    "collapsed": true
   },
   "outputs": [],
   "source": []
  },
  {
   "cell_type": "markdown",
   "metadata": {},
   "source": [
    "Best Director\n",
    "======="
   ]
  },
  {
   "cell_type": "code",
   "execution_count": 21,
   "metadata": {
    "collapsed": false
   },
   "outputs": [],
   "source": [
    "gg = pd.read_csv('direction_globe.csv')\n",
    "res = []\n",
    "for year in gg['Year'].unique():\n",
    "    temp = gg[gg['Year'] == year]\n",
    "    if type(temp) == pd.core.series.Series:\n",
    "        res += [1]\n",
    "    else: \n",
    "        res += [1] + [0 for i in range(len(temp) -1 )]\n",
    "res = np.array(res)\n",
    "gg['Globe best director winner'] = res\n",
    "gg['Globe best director nominee'] = 1"
   ]
  },
  {
   "cell_type": "code",
   "execution_count": 22,
   "metadata": {
    "collapsed": false
   },
   "outputs": [],
   "source": [
    "bf = pd.read_csv('direction_bafta.csv')\n",
    "res = []\n",
    "for year in bf['Year'].unique():\n",
    "    temp = bf[bf['Year'] == year]\n",
    "    if type(temp) == pd.core.series.Series:\n",
    "        res += [1]\n",
    "    else: \n",
    "        res += [1] + [0 for i in range(len(temp) -1 )]\n",
    "res = np.array(res)\n",
    "bf['BAFTA best director winner'] = res\n",
    "bf['BAFTA best director nominee'] = 1"
   ]
  },
  {
   "cell_type": "code",
   "execution_count": 23,
   "metadata": {
    "collapsed": false
   },
   "outputs": [],
   "source": [
    "spirit = pd.read_csv('direction_spirit.csv')\n",
    "res = []\n",
    "for year in spirit['Year'].unique():\n",
    "    temp = spirit[spirit['Year'] == year]\n",
    "    if type(temp) == pd.core.series.Series:\n",
    "        res += [1]\n",
    "    else: \n",
    "        res += [1] + [0 for i in range(len(temp) -1 )]\n",
    "res = np.array(res)\n",
    "spirit['Spirit best director winner'] = res\n",
    "spirit['Spirit best director nominee'] = 1"
   ]
  },
  {
   "cell_type": "code",
   "execution_count": null,
   "metadata": {
    "collapsed": true
   },
   "outputs": [],
   "source": []
  },
  {
   "cell_type": "code",
   "execution_count": 24,
   "metadata": {
    "collapsed": true
   },
   "outputs": [],
   "source": [
    "df = [gg, bf, spirit]"
   ]
  },
  {
   "cell_type": "code",
   "execution_count": 25,
   "metadata": {
    "collapsed": true
   },
   "outputs": [],
   "source": [
    "condition = ['Name', 'Year', 'Director']\n",
    "best_director = gg.merge(bf, how='outer', right_on=condition, left_on=condition)\n",
    "for frame in df[2:]:\n",
    "    best_director = best_director.merge(frame, how='outer', right_on=condition, left_on=condition)\n",
    "best_director = best_director.fillna(0)\n",
    "best_director.to_csv('best_director_consolidated.csv', index=False)"
   ]
  },
  {
   "cell_type": "code",
   "execution_count": null,
   "metadata": {
    "collapsed": true
   },
   "outputs": [],
   "source": []
  }
 ],
 "metadata": {
  "kernelspec": {
   "display_name": "Python 3",
   "language": "python",
   "name": "python3"
  },
  "language_info": {
   "codemirror_mode": {
    "name": "ipython",
    "version": 3
   },
   "file_extension": ".py",
   "mimetype": "text/x-python",
   "name": "python",
   "nbconvert_exporter": "python",
   "pygments_lexer": "ipython3",
   "version": "3.5.2"
  }
 },
 "nbformat": 4,
 "nbformat_minor": 2
}
