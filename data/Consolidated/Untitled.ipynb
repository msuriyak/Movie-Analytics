{
 "cells": [
  {
   "cell_type": "code",
   "execution_count": 20,
   "metadata": {
    "collapsed": true
   },
   "outputs": [],
   "source": [
    "import pandas as pd\n",
    "import numpy as np\n",
    "import sklearn\n",
    "import matplotlib.pyplot as plt"
   ]
  },
  {
   "cell_type": "code",
   "execution_count": 29,
   "metadata": {
    "collapsed": false
   },
   "outputs": [],
   "source": [
    "gg = pd.read_csv('films_globe.csv', index_col=0)\n",
    "res = []\n",
    "for year in gg.index.unique():\n",
    "    temp = gg.loc[year]\n",
    "    if type(temp) == pd.core.series.Series:\n",
    "        res += [1]\n",
    "    else: \n",
    "        res += [1] + [0 for i in range(len(temp) -1 )]\n",
    "res = np.array(res)\n",
    "gg['Globe best film winner'] = res\n",
    "gg.columns = ['Name', 'Director', 'Producers', 'Globe winner']\n",
    "gg['Globe best film nominee'] = 1\n",
    "gg = gg.reset_index()"
   ]
  },
  {
   "cell_type": "code",
   "execution_count": 30,
   "metadata": {
    "collapsed": false
   },
   "outputs": [
    {
     "data": {
      "text/html": [
       "<div>\n",
       "<table border=\"1\" class=\"dataframe\">\n",
       "  <thead>\n",
       "    <tr style=\"text-align: right;\">\n",
       "      <th></th>\n",
       "      <th>Year</th>\n",
       "      <th>Name</th>\n",
       "      <th>Director</th>\n",
       "      <th>Producers</th>\n",
       "      <th>Globe winner</th>\n",
       "      <th>Globe best film nominee</th>\n",
       "    </tr>\n",
       "  </thead>\n",
       "  <tbody>\n",
       "    <tr>\n",
       "      <th>0</th>\n",
       "      <td>1951</td>\n",
       "      <td>A Place in the Sun</td>\n",
       "      <td>George Stevens</td>\n",
       "      <td>George Stevens</td>\n",
       "      <td>1</td>\n",
       "      <td>1</td>\n",
       "    </tr>\n",
       "    <tr>\n",
       "      <th>1</th>\n",
       "      <td>1951</td>\n",
       "      <td>Bright Victory</td>\n",
       "      <td>Mark Robson</td>\n",
       "      <td>Robert Buckner</td>\n",
       "      <td>0</td>\n",
       "      <td>1</td>\n",
       "    </tr>\n",
       "    <tr>\n",
       "      <th>2</th>\n",
       "      <td>1951</td>\n",
       "      <td>Detective Story</td>\n",
       "      <td>William Wyler</td>\n",
       "      <td>William Wyler</td>\n",
       "      <td>0</td>\n",
       "      <td>1</td>\n",
       "    </tr>\n",
       "    <tr>\n",
       "      <th>3</th>\n",
       "      <td>1951</td>\n",
       "      <td>Quo Vadis</td>\n",
       "      <td>Mervyn LeRoy</td>\n",
       "      <td>Sam Zimbalist</td>\n",
       "      <td>0</td>\n",
       "      <td>1</td>\n",
       "    </tr>\n",
       "    <tr>\n",
       "      <th>4</th>\n",
       "      <td>1951</td>\n",
       "      <td>A Streetcar Named Desire</td>\n",
       "      <td>Elia Kazan</td>\n",
       "      <td>Charles K. Feldman</td>\n",
       "      <td>0</td>\n",
       "      <td>1</td>\n",
       "    </tr>\n",
       "    <tr>\n",
       "      <th>5</th>\n",
       "      <td>1952</td>\n",
       "      <td>The Greatest Show on Earth</td>\n",
       "      <td>Cecil B. DeMille</td>\n",
       "      <td>Cecil B. DeMille</td>\n",
       "      <td>1</td>\n",
       "      <td>1</td>\n",
       "    </tr>\n",
       "    <tr>\n",
       "      <th>6</th>\n",
       "      <td>1952</td>\n",
       "      <td>Come Back, Little Sheba</td>\n",
       "      <td>Daniel Mann</td>\n",
       "      <td>Hal B. Wallis</td>\n",
       "      <td>0</td>\n",
       "      <td>1</td>\n",
       "    </tr>\n",
       "    <tr>\n",
       "      <th>7</th>\n",
       "      <td>1952</td>\n",
       "      <td>The Happy Time</td>\n",
       "      <td>Richard Fleischer</td>\n",
       "      <td>Earl Fenton</td>\n",
       "      <td>0</td>\n",
       "      <td>1</td>\n",
       "    </tr>\n",
       "    <tr>\n",
       "      <th>8</th>\n",
       "      <td>1952</td>\n",
       "      <td>High Noon</td>\n",
       "      <td>Fred Zinnemann</td>\n",
       "      <td>Stanley Kramer</td>\n",
       "      <td>0</td>\n",
       "      <td>1</td>\n",
       "    </tr>\n",
       "    <tr>\n",
       "      <th>9</th>\n",
       "      <td>1952</td>\n",
       "      <td>The Thief</td>\n",
       "      <td>Russell Rouse</td>\n",
       "      <td>Clarence Greene</td>\n",
       "      <td>0</td>\n",
       "      <td>1</td>\n",
       "    </tr>\n",
       "  </tbody>\n",
       "</table>\n",
       "</div>"
      ],
      "text/plain": [
       "   Year                         Name           Director           Producers  \\\n",
       "0  1951          A Place in the Sun      George Stevens      George Stevens   \n",
       "1  1951               Bright Victory        Mark Robson      Robert Buckner   \n",
       "2  1951              Detective Story      William Wyler       William Wyler   \n",
       "3  1951                   Quo Vadis        Mervyn LeRoy       Sam Zimbalist   \n",
       "4  1951    A Streetcar Named Desire          Elia Kazan  Charles K. Feldman   \n",
       "5  1952  The Greatest Show on Earth    Cecil B. DeMille    Cecil B. DeMille   \n",
       "6  1952      Come Back, Little Sheba        Daniel Mann       Hal B. Wallis   \n",
       "7  1952               The Happy Time  Richard Fleischer         Earl Fenton   \n",
       "8  1952                   High Noon      Fred Zinnemann      Stanley Kramer   \n",
       "9  1952                    The Thief      Russell Rouse     Clarence Greene   \n",
       "\n",
       "   Globe winner  Globe best film nominee  \n",
       "0             1                        1  \n",
       "1             0                        1  \n",
       "2             0                        1  \n",
       "3             0                        1  \n",
       "4             0                        1  \n",
       "5             1                        1  \n",
       "6             0                        1  \n",
       "7             0                        1  \n",
       "8             0                        1  \n",
       "9             0                        1  "
      ]
     },
     "execution_count": 30,
     "metadata": {},
     "output_type": "execute_result"
    }
   ],
   "source": [
    "gg.head(10)"
   ]
  },
  {
   "cell_type": "code",
   "execution_count": 31,
   "metadata": {
    "collapsed": false
   },
   "outputs": [],
   "source": [
    "bf = pd.read_csv(\"films_bafta.csv\", index_col=0)\n",
    "res = []\n",
    "for year in bf.index.unique():\n",
    "    temp = bf.loc[year]\n",
    "    if type(temp) == pd.core.series.Series:\n",
    "        res += [1]\n",
    "    else: \n",
    "        res += [1] + [0 for i in range(len(temp) -1 )]\n",
    "res = np.array(res)\n",
    "bf['BAFTA best film winner'] = res\n",
    "bf['BAFTA best film nominee'] = 1\n",
    "bf = bf.reset_index()\n",
    "bf.columns = ['Year', 'Name'] + bf.columns[2:].tolist()"
   ]
  },
  {
   "cell_type": "code",
   "execution_count": 32,
   "metadata": {
    "collapsed": false
   },
   "outputs": [
    {
     "data": {
      "text/html": [
       "<div>\n",
       "<table border=\"1\" class=\"dataframe\">\n",
       "  <thead>\n",
       "    <tr style=\"text-align: right;\">\n",
       "      <th></th>\n",
       "      <th>Year</th>\n",
       "      <th>Name</th>\n",
       "      <th>BAFTA best film winner</th>\n",
       "      <th>BAFTA best film nominee</th>\n",
       "    </tr>\n",
       "  </thead>\n",
       "  <tbody>\n",
       "    <tr>\n",
       "      <th>0</th>\n",
       "      <td>1960</td>\n",
       "      <td>The Apartment</td>\n",
       "      <td>1</td>\n",
       "      <td>1</td>\n",
       "    </tr>\n",
       "    <tr>\n",
       "      <th>1</th>\n",
       "      <td>1960</td>\n",
       "      <td>The 400 Blows</td>\n",
       "      <td>0</td>\n",
       "      <td>1</td>\n",
       "    </tr>\n",
       "    <tr>\n",
       "      <th>2</th>\n",
       "      <td>1960</td>\n",
       "      <td>The Angry Silence</td>\n",
       "      <td>0</td>\n",
       "      <td>1</td>\n",
       "    </tr>\n",
       "    <tr>\n",
       "      <th>3</th>\n",
       "      <td>1960</td>\n",
       "      <td>The Adventure</td>\n",
       "      <td>0</td>\n",
       "      <td>1</td>\n",
       "    </tr>\n",
       "    <tr>\n",
       "      <th>4</th>\n",
       "      <td>1960</td>\n",
       "      <td>La Dolce Vita</td>\n",
       "      <td>0</td>\n",
       "      <td>1</td>\n",
       "    </tr>\n",
       "  </tbody>\n",
       "</table>\n",
       "</div>"
      ],
      "text/plain": [
       "   Year               Name  BAFTA best film winner  BAFTA best film nominee\n",
       "0  1960      The Apartment                       1                        1\n",
       "1  1960      The 400 Blows                       0                        1\n",
       "2  1960  The Angry Silence                       0                        1\n",
       "3  1960      The Adventure                       0                        1\n",
       "4  1960      La Dolce Vita                       0                        1"
      ]
     },
     "execution_count": 32,
     "metadata": {},
     "output_type": "execute_result"
    }
   ],
   "source": [
    "bf.head()"
   ]
  },
  {
   "cell_type": "code",
   "execution_count": 33,
   "metadata": {
    "collapsed": true
   },
   "outputs": [],
   "source": [
    "oscars = pd.read_csv('films_oscars.csv')"
   ]
  },
  {
   "cell_type": "code",
   "execution_count": 34,
   "metadata": {
    "collapsed": false
   },
   "outputs": [
    {
     "data": {
      "text/html": [
       "<div>\n",
       "<table border=\"1\" class=\"dataframe\">\n",
       "  <thead>\n",
       "    <tr style=\"text-align: right;\">\n",
       "      <th></th>\n",
       "      <th>Name</th>\n",
       "      <th>Year</th>\n",
       "      <th>Oscar winner</th>\n",
       "      <th>Oscar nominee</th>\n",
       "    </tr>\n",
       "  </thead>\n",
       "  <tbody>\n",
       "    <tr>\n",
       "      <th>0</th>\n",
       "      <td>Wings</td>\n",
       "      <td>1927</td>\n",
       "      <td>1</td>\n",
       "      <td>1</td>\n",
       "    </tr>\n",
       "    <tr>\n",
       "      <th>1</th>\n",
       "      <td>The Racket</td>\n",
       "      <td>1927</td>\n",
       "      <td>0</td>\n",
       "      <td>1</td>\n",
       "    </tr>\n",
       "    <tr>\n",
       "      <th>2</th>\n",
       "      <td>7th Heaven</td>\n",
       "      <td>1927</td>\n",
       "      <td>0</td>\n",
       "      <td>1</td>\n",
       "    </tr>\n",
       "    <tr>\n",
       "      <th>3</th>\n",
       "      <td>The Broadway Melody</td>\n",
       "      <td>1928</td>\n",
       "      <td>1</td>\n",
       "      <td>1</td>\n",
       "    </tr>\n",
       "    <tr>\n",
       "      <th>4</th>\n",
       "      <td>Alibi</td>\n",
       "      <td>1928</td>\n",
       "      <td>0</td>\n",
       "      <td>1</td>\n",
       "    </tr>\n",
       "  </tbody>\n",
       "</table>\n",
       "</div>"
      ],
      "text/plain": [
       "                  Name  Year  Oscar winner  Oscar nominee\n",
       "0                Wings  1927             1              1\n",
       "1           The Racket  1927             0              1\n",
       "2           7th Heaven  1927             0              1\n",
       "3  The Broadway Melody  1928             1              1\n",
       "4                Alibi  1928             0              1"
      ]
     },
     "execution_count": 34,
     "metadata": {},
     "output_type": "execute_result"
    }
   ],
   "source": [
    "oscars.head()"
   ]
  },
  {
   "cell_type": "code",
   "execution_count": 35,
   "metadata": {
    "collapsed": true
   },
   "outputs": [],
   "source": [
    "combined_df = gg.merge(bf, how='outer', right_on=['Name', 'Year'], left_on=['Name', 'Year'])"
   ]
  },
  {
   "cell_type": "code",
   "execution_count": 36,
   "metadata": {
    "collapsed": false
   },
   "outputs": [],
   "source": [
    "combined_df = combined_df.merge(oscars, how='outer', right_on=['Name', 'Year'], left_on=['Name', 'Year'])"
   ]
  },
  {
   "cell_type": "code",
   "execution_count": 42,
   "metadata": {
    "collapsed": false
   },
   "outputs": [
    {
     "data": {
      "text/html": [
       "<div>\n",
       "<table border=\"1\" class=\"dataframe\">\n",
       "  <thead>\n",
       "    <tr style=\"text-align: right;\">\n",
       "      <th></th>\n",
       "      <th>Year</th>\n",
       "      <th>Globe winner</th>\n",
       "      <th>Globe best film nominee</th>\n",
       "      <th>BAFTA best film winner</th>\n",
       "      <th>BAFTA best film nominee</th>\n",
       "      <th>Oscar winner</th>\n",
       "      <th>Oscar nominee</th>\n",
       "    </tr>\n",
       "  </thead>\n",
       "  <tbody>\n",
       "    <tr>\n",
       "      <th>count</th>\n",
       "      <td>971.000000</td>\n",
       "      <td>285.000000</td>\n",
       "      <td>285.0</td>\n",
       "      <td>292.000000</td>\n",
       "      <td>292.0</td>\n",
       "      <td>537.000000</td>\n",
       "      <td>537.0</td>\n",
       "    </tr>\n",
       "    <tr>\n",
       "      <th>mean</th>\n",
       "      <td>1976.005149</td>\n",
       "      <td>0.196491</td>\n",
       "      <td>1.0</td>\n",
       "      <td>0.195205</td>\n",
       "      <td>1.0</td>\n",
       "      <td>0.165736</td>\n",
       "      <td>1.0</td>\n",
       "    </tr>\n",
       "    <tr>\n",
       "      <th>std</th>\n",
       "      <td>25.003937</td>\n",
       "      <td>0.398043</td>\n",
       "      <td>0.0</td>\n",
       "      <td>0.397039</td>\n",
       "      <td>0.0</td>\n",
       "      <td>0.372190</td>\n",
       "      <td>0.0</td>\n",
       "    </tr>\n",
       "    <tr>\n",
       "      <th>min</th>\n",
       "      <td>1927.000000</td>\n",
       "      <td>0.000000</td>\n",
       "      <td>1.0</td>\n",
       "      <td>0.000000</td>\n",
       "      <td>1.0</td>\n",
       "      <td>0.000000</td>\n",
       "      <td>1.0</td>\n",
       "    </tr>\n",
       "    <tr>\n",
       "      <th>25%</th>\n",
       "      <td>1958.500000</td>\n",
       "      <td>0.000000</td>\n",
       "      <td>1.0</td>\n",
       "      <td>0.000000</td>\n",
       "      <td>1.0</td>\n",
       "      <td>0.000000</td>\n",
       "      <td>1.0</td>\n",
       "    </tr>\n",
       "    <tr>\n",
       "      <th>50%</th>\n",
       "      <td>1977.000000</td>\n",
       "      <td>0.000000</td>\n",
       "      <td>1.0</td>\n",
       "      <td>0.000000</td>\n",
       "      <td>1.0</td>\n",
       "      <td>0.000000</td>\n",
       "      <td>1.0</td>\n",
       "    </tr>\n",
       "    <tr>\n",
       "      <th>75%</th>\n",
       "      <td>1998.000000</td>\n",
       "      <td>0.000000</td>\n",
       "      <td>1.0</td>\n",
       "      <td>0.000000</td>\n",
       "      <td>1.0</td>\n",
       "      <td>0.000000</td>\n",
       "      <td>1.0</td>\n",
       "    </tr>\n",
       "    <tr>\n",
       "      <th>max</th>\n",
       "      <td>2016.000000</td>\n",
       "      <td>1.000000</td>\n",
       "      <td>1.0</td>\n",
       "      <td>1.000000</td>\n",
       "      <td>1.0</td>\n",
       "      <td>1.000000</td>\n",
       "      <td>1.0</td>\n",
       "    </tr>\n",
       "  </tbody>\n",
       "</table>\n",
       "</div>"
      ],
      "text/plain": [
       "              Year  Globe winner  Globe best film nominee  \\\n",
       "count   971.000000    285.000000                    285.0   \n",
       "mean   1976.005149      0.196491                      1.0   \n",
       "std      25.003937      0.398043                      0.0   \n",
       "min    1927.000000      0.000000                      1.0   \n",
       "25%    1958.500000      0.000000                      1.0   \n",
       "50%    1977.000000      0.000000                      1.0   \n",
       "75%    1998.000000      0.000000                      1.0   \n",
       "max    2016.000000      1.000000                      1.0   \n",
       "\n",
       "       BAFTA best film winner  BAFTA best film nominee  Oscar winner  \\\n",
       "count              292.000000                    292.0    537.000000   \n",
       "mean                 0.195205                      1.0      0.165736   \n",
       "std                  0.397039                      0.0      0.372190   \n",
       "min                  0.000000                      1.0      0.000000   \n",
       "25%                  0.000000                      1.0      0.000000   \n",
       "50%                  0.000000                      1.0      0.000000   \n",
       "75%                  0.000000                      1.0      0.000000   \n",
       "max                  1.000000                      1.0      1.000000   \n",
       "\n",
       "       Oscar nominee  \n",
       "count          537.0  \n",
       "mean             1.0  \n",
       "std              0.0  \n",
       "min              1.0  \n",
       "25%              1.0  \n",
       "50%              1.0  \n",
       "75%              1.0  \n",
       "max              1.0  "
      ]
     },
     "execution_count": 42,
     "metadata": {},
     "output_type": "execute_result"
    }
   ],
   "source": [
    "combined_df.describe()"
   ]
  },
  {
   "cell_type": "code",
   "execution_count": null,
   "metadata": {
    "collapsed": true
   },
   "outputs": [],
   "source": []
  }
 ],
 "metadata": {
  "kernelspec": {
   "display_name": "Python 3",
   "language": "python",
   "name": "python3"
  },
  "language_info": {
   "codemirror_mode": {
    "name": "ipython",
    "version": 3
   },
   "file_extension": ".py",
   "mimetype": "text/x-python",
   "name": "python",
   "nbconvert_exporter": "python",
   "pygments_lexer": "ipython3",
   "version": "3.5.2"
  }
 },
 "nbformat": 4,
 "nbformat_minor": 2
}
