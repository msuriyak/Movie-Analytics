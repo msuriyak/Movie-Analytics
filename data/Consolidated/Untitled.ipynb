{
 "cells": [
  {
   "cell_type": "code",
   "execution_count": 2,
   "metadata": {
    "collapsed": true
   },
   "outputs": [],
   "source": [
    "import pandas as pd\n",
    "import numpy as np\n",
    "import sklearn\n",
    "import matplotlib.pyplot as plt"
   ]
  },
  {
   "cell_type": "code",
   "execution_count": 120,
   "metadata": {
    "collapsed": false
   },
   "outputs": [],
   "source": [
    "df = pd.read_csv('films_globe.csv', index_col=0)\n",
    "res = []\n",
    "for year in df.index.unique():\n",
    "    temp = df.loc[year]\n",
    "    if type(temp) == pd.core.series.Series:\n",
    "        res += [1]\n",
    "    else: \n",
    "        res += [1] + [0 for i in range(len(temp) -1 )]\n",
    "res = np.array(res)\n",
    "df['Golden globe winner'] = res"
   ]
  },
  {
   "cell_type": "code",
   "execution_count": 122,
   "metadata": {
    "collapsed": false
   },
   "outputs": [
    {
     "data": {
      "text/html": [
       "<div>\n",
       "<table border=\"1\" class=\"dataframe\">\n",
       "  <thead>\n",
       "    <tr style=\"text-align: right;\">\n",
       "      <th></th>\n",
       "      <th>Film</th>\n",
       "      <th>Director</th>\n",
       "      <th>Producers</th>\n",
       "      <th>Golden globe winner</th>\n",
       "    </tr>\n",
       "    <tr>\n",
       "      <th>Year</th>\n",
       "      <th></th>\n",
       "      <th></th>\n",
       "      <th></th>\n",
       "      <th></th>\n",
       "    </tr>\n",
       "  </thead>\n",
       "  <tbody>\n",
       "    <tr>\n",
       "      <th>1951</th>\n",
       "      <td>A Place in the Sun</td>\n",
       "      <td>George Stevens</td>\n",
       "      <td>George Stevens</td>\n",
       "      <td>1</td>\n",
       "    </tr>\n",
       "    <tr>\n",
       "      <th>1951</th>\n",
       "      <td>Bright Victory</td>\n",
       "      <td>Mark Robson</td>\n",
       "      <td>Robert Buckner</td>\n",
       "      <td>0</td>\n",
       "    </tr>\n",
       "    <tr>\n",
       "      <th>1951</th>\n",
       "      <td>Detective Story</td>\n",
       "      <td>William Wyler</td>\n",
       "      <td>William Wyler</td>\n",
       "      <td>0</td>\n",
       "    </tr>\n",
       "    <tr>\n",
       "      <th>1951</th>\n",
       "      <td>Quo Vadis</td>\n",
       "      <td>Mervyn LeRoy</td>\n",
       "      <td>Sam Zimbalist</td>\n",
       "      <td>0</td>\n",
       "    </tr>\n",
       "    <tr>\n",
       "      <th>1951</th>\n",
       "      <td>A Streetcar Named Desire</td>\n",
       "      <td>Elia Kazan</td>\n",
       "      <td>Charles K. Feldman</td>\n",
       "      <td>0</td>\n",
       "    </tr>\n",
       "    <tr>\n",
       "      <th>1952</th>\n",
       "      <td>The Greatest Show on Earth</td>\n",
       "      <td>Cecil B. DeMille</td>\n",
       "      <td>Cecil B. DeMille</td>\n",
       "      <td>1</td>\n",
       "    </tr>\n",
       "    <tr>\n",
       "      <th>1952</th>\n",
       "      <td>Come Back, Little Sheba</td>\n",
       "      <td>Daniel Mann</td>\n",
       "      <td>Hal B. Wallis</td>\n",
       "      <td>0</td>\n",
       "    </tr>\n",
       "    <tr>\n",
       "      <th>1952</th>\n",
       "      <td>The Happy Time</td>\n",
       "      <td>Richard Fleischer</td>\n",
       "      <td>Earl Fenton</td>\n",
       "      <td>0</td>\n",
       "    </tr>\n",
       "    <tr>\n",
       "      <th>1952</th>\n",
       "      <td>High Noon</td>\n",
       "      <td>Fred Zinnemann</td>\n",
       "      <td>Stanley Kramer</td>\n",
       "      <td>0</td>\n",
       "    </tr>\n",
       "    <tr>\n",
       "      <th>1952</th>\n",
       "      <td>The Thief</td>\n",
       "      <td>Russell Rouse</td>\n",
       "      <td>Clarence Greene</td>\n",
       "      <td>0</td>\n",
       "    </tr>\n",
       "  </tbody>\n",
       "</table>\n",
       "</div>"
      ],
      "text/plain": [
       "                             Film           Director           Producers  \\\n",
       "Year                                                                       \n",
       "1951          A Place in the Sun      George Stevens      George Stevens   \n",
       "1951               Bright Victory        Mark Robson      Robert Buckner   \n",
       "1951              Detective Story      William Wyler       William Wyler   \n",
       "1951                   Quo Vadis        Mervyn LeRoy       Sam Zimbalist   \n",
       "1951    A Streetcar Named Desire          Elia Kazan  Charles K. Feldman   \n",
       "1952  The Greatest Show on Earth    Cecil B. DeMille    Cecil B. DeMille   \n",
       "1952      Come Back, Little Sheba        Daniel Mann       Hal B. Wallis   \n",
       "1952               The Happy Time  Richard Fleischer         Earl Fenton   \n",
       "1952                   High Noon      Fred Zinnemann      Stanley Kramer   \n",
       "1952                    The Thief      Russell Rouse     Clarence Greene   \n",
       "\n",
       "      Golden globe winner  \n",
       "Year                       \n",
       "1951                    1  \n",
       "1951                    0  \n",
       "1951                    0  \n",
       "1951                    0  \n",
       "1951                    0  \n",
       "1952                    1  \n",
       "1952                    0  \n",
       "1952                    0  \n",
       "1952                    0  \n",
       "1952                    0  "
      ]
     },
     "execution_count": 122,
     "metadata": {},
     "output_type": "execute_result"
    }
   ],
   "source": [
    "df.head(10)"
   ]
  },
  {
   "cell_type": "code",
   "execution_count": null,
   "metadata": {
    "collapsed": true
   },
   "outputs": [],
   "source": []
  }
 ],
 "metadata": {
  "kernelspec": {
   "display_name": "Python 3",
   "language": "python",
   "name": "python3"
  },
  "language_info": {
   "codemirror_mode": {
    "name": "ipython",
    "version": 3
   },
   "file_extension": ".py",
   "mimetype": "text/x-python",
   "name": "python",
   "nbconvert_exporter": "python",
   "pygments_lexer": "ipython3",
   "version": "3.5.2"
  }
 },
 "nbformat": 4,
 "nbformat_minor": 2
}
